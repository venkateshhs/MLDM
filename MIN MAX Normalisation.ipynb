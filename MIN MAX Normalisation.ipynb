{
 "cells": [
  {
   "cell_type": "code",
   "execution_count": 1,
   "metadata": {},
   "outputs": [
    {
     "name": "stdout",
     "output_type": "stream",
     "text": [
      "MIN MAX [0.217, 0.171, 0.026, 0.083, 0.254, 0.157, 1.0, 0.143, 0.206, 0.0]\n",
      "Z Score [-0.032, -0.201, -0.742, -0.53, 0.106, -0.254, 2.872, -0.307, -0.074, -0.837]\n",
      "Softmax [0.49205148938058957, 0.44982464292204055, 0.32258367190094556, 0.3705296337302163, 0.5264724903114247, 0.4367472598108353, 0.9464602098440322, 0.42375723549744204, 0.48146041614313373, 0.3021008602757469]\n",
      "[[1.         0.99920916]\n",
      " [0.99920916 1.        ]]\n"
     ]
    }
   ],
   "source": [
    "from scipy import stats\n",
    "import numpy as np\n",
    "\n",
    "\n",
    "each_feature=[149,133,82,102,162,128,423,123,145,73] #-------------------------Input here ---------------------\n",
    "minimum=min(each_feature)\n",
    "maximum=max(each_feature)\n",
    "mean=np.mean(each_feature)\n",
    "std=np.std(each_feature)\n",
    "new_features=[]\n",
    "ZScore_Feature=[]\n",
    "#----------------------MIN MAX Normalisation-----------------For linear function , i e values near mean\n",
    "for value in each_feature:\n",
    "    newValue=(value-minimum)/(maximum-minimum)\n",
    "    new_features.append(np.round(newValue,3))\n",
    "print(\"MIN MAX\",new_features)\n",
    "\n",
    "# ---------------------Z Score Standardisation-------------------\n",
    "for value1 in each_feature:\n",
    "    ZScore_Feature.append(np.round(((value1- mean )/(std)),3))\n",
    "print(\"Z Score\",ZScore_Feature)\n",
    "\n",
    "#----------------Softmax Scaling-------------------------For non linear data\n",
    "r=1  #Change if r is different\n",
    "softmax=[]\n",
    "for value1 in each_feature:\n",
    "    value=(value1- mean )/(r*(std))\n",
    "    valuenew=1/(1+np.exp(-value))             \n",
    "    softmax.append(valuenew)\n",
    "print(\"Softmax\",softmax)\n",
    "#--------------------------Correlation----------------------------------------\n",
    "\n",
    "corr1=[149,133,82,102,162,128,423,123,145,73]\n",
    "corr2=[145,131,74,99,152,123,421,111,131,66]\n",
    "print(np.corrcoef(corr1,corr2))"
   ]
  },
  {
   "cell_type": "code",
   "execution_count": null,
   "metadata": {},
   "outputs": [],
   "source": []
  }
 ],
 "metadata": {
  "kernelspec": {
   "display_name": "Python 3",
   "language": "python",
   "name": "python3"
  },
  "language_info": {
   "codemirror_mode": {
    "name": "ipython",
    "version": 3
   },
   "file_extension": ".py",
   "mimetype": "text/x-python",
   "name": "python",
   "nbconvert_exporter": "python",
   "pygments_lexer": "ipython3",
   "version": "3.8.5"
  }
 },
 "nbformat": 4,
 "nbformat_minor": 4
}
