{
 "cells": [
  {
   "cell_type": "code",
   "execution_count": 5,
   "metadata": {},
   "outputs": [
    {
     "name": "stdout",
     "output_type": "stream",
     "text": [
      "impurity: 0.3602012209808308\n",
      "Impurity measure 0.21000000000000002\n",
      "Entropy distribution: 0.8812908992306927\n",
      "Normalised Impurity: 0.23828681333634083\n"
     ]
    }
   ],
   "source": [
    "import math as m\n",
    "#-----impurity for each node-----\n",
    "#---input starts---------\n",
    "total = 10\n",
    "each_node_count = 7\n",
    "#---input end---------\n",
    "\n",
    "imp = (each_node_count/total)*(m.log((each_node_count/total),2))*-1\n",
    "print(\"impurity:\",imp)\n",
    "\n",
    "#-----impurity measure-------\n",
    "#---input starts---------\n",
    "imp_root = 0.7\n",
    "class1_cnt = 7\n",
    "imp_c1 = 0.7\n",
    "class2_cnt = 3 \n",
    "imp_c2 = 0\n",
    "#---input ends---------\n",
    "\n",
    "imp_meas = imp_root - (((class1_cnt/total)*imp_c1)+((class2_cnt/total)*imp_c2))\n",
    "print(\"Impurity measure\",imp_meas)\n",
    "\n",
    "#----entropy distribution-----\n",
    "e_d = ((class1_cnt/total)*(m.log((class1_cnt/total),2)) + (class2_cnt/total)*(m.log((class2_cnt/total),2))) *-1\n",
    "print(\"Entropy distribution:\",e_d)\n",
    "\n",
    "#----normalised impurity------\n",
    "normal_imp = imp_meas/e_d\n",
    "print(\"Normalised Impurity:\",normal_imp)"
   ]
  },
  {
   "cell_type": "code",
   "execution_count": null,
   "metadata": {},
   "outputs": [],
   "source": []
  }
 ],
 "metadata": {
  "kernelspec": {
   "display_name": "Python 3",
   "language": "python",
   "name": "python3"
  },
  "language_info": {
   "codemirror_mode": {
    "name": "ipython",
    "version": 3
   },
   "file_extension": ".py",
   "mimetype": "text/x-python",
   "name": "python",
   "nbconvert_exporter": "python",
   "pygments_lexer": "ipython3",
   "version": "3.8.5"
  }
 },
 "nbformat": 4,
 "nbformat_minor": 4
}
