{
 "cells": [
  {
   "cell_type": "code",
   "execution_count": 11,
   "metadata": {},
   "outputs": [
    {
     "name": "stdout",
     "output_type": "stream",
     "text": [
      "slope b1 is M: 2.8983055563097886\n",
      "intercept b0 is ,C -2126.606733461522\n",
      "Y for g( 189216 ): 546279.1774092515\n",
      "new Y for g( 0 ): -2126.606733461522\n",
      "new Y for g( 35424 ): 100542.96929325644\n",
      "new Y for g( 73440 ): 210724.95332192935\n",
      "new Y for g( 109728 ): 315898.665349299\n",
      "new Y for g( 136512 ): 393526.8813695003\n",
      "new Y for g( 176256 ): 508717.1373994766\n",
      "MSE for New Y: 7944256828.723922\n",
      "LSE for New Y: 47665540972.34353\n",
      "MSE for few values: 743.4229056467419\n"
     ]
    },
    {
     "data": {
      "image/png": "[encoded data removed]",
      "text/plain": [
       "<Figure size 432x288 with 1 Axes>"
      ]
     },
     "metadata": {
      "needs_background": "light"
     },
     "output_type": "display_data"
    }
   ],
   "source": [
    "import numpy as np \n",
    "import matplotlib.pyplot as plt \n",
    "  \n",
    "from sklearn.linear_model import LinearRegression \n",
    "from sklearn.metrics import mean_squared_error, r2_score \n",
    "import statsmodels.api as sm \n",
    "\n",
    "x = np.array([0,35424,73440,109728,136512,176256])\n",
    "y = np.array([87345,244555,213087,222042,326125,434130])\n",
    "n = np.size(x) \n",
    "xnew=189216             #--------------------Input your x here ----------------------\n",
    "    \n",
    "x_mean = np.mean(x) \n",
    "y_mean = np.mean(y) \n",
    "x_mean,y_mean \n",
    "  \n",
    "Sxy = np.sum(x*y)- n*x_mean*y_mean \n",
    "Sxx = np.sum(x*x)-n*x_mean*x_mean \n",
    "  \n",
    "b1 = Sxy/Sxx \n",
    "b0 = y_mean-b1*x_mean \n",
    "print('slope b1 is M:', b1) \n",
    "print('intercept b0 is ,C', b0) \n",
    "  \n",
    "plt.scatter(x,y) \n",
    "plt.xlabel('Independent variable X') \n",
    "plt.ylabel('Dependent variable y')\n",
    "\n",
    "ynew=b0+(b1*xnew)\n",
    "print(\"Y for g(\",xnew,\"):\",ynew)\n",
    "ynew11=[]\n",
    "for each_x in x:\n",
    "    ynew1=b0+(b1*each_x)\n",
    "    print(\"new Y for g(\",each_x,\"):\",ynew1)\n",
    "    ynew11.append(ynew1)\n",
    "\n",
    "MSE_new = np.square(np.subtract(y,ynew11)).mean() \n",
    "print(\"MSE for New Y:\",MSE_new)\n",
    "print(\"LSE for New Y:\",MSE_new*len(ynew11))\n",
    "\n",
    "\n",
    "#-------------------------MSE for few values---------------------------------\n",
    "# Given values \n",
    "Y_true = [123,208,138]  # Y_true = Y (original values) \n",
    "  \n",
    "# Calculated values \n",
    "Y_pred = [116.36780566234235,211.27651838815603,184.64276087947457]  # Y_pred = Y' \n",
    "  \n",
    "# Mean Squared Error \n",
    "MSE = np.square(np.subtract(Y_true,Y_pred)).mean() \n",
    "print(\"MSE for few values:\",MSE)\n",
    "\n"
   ]
  },
  {
   "cell_type": "code",
   "execution_count": null,
   "metadata": {},
   "outputs": [],
   "source": []
  }
 ],
 "metadata": {
  "kernelspec": {
   "display_name": "Python 3",
   "language": "python",
   "name": "python3"
  },
  "language_info": {
   "codemirror_mode": {
    "name": "ipython",
    "version": 3
   },
   "file_extension": ".py",
   "mimetype": "text/x-python",
   "name": "python",
   "nbconvert_exporter": "python",
   "pygments_lexer": "ipython3",
   "version": "3.8.5"
  }
 },
 "nbformat": 4,
 "nbformat_minor": 4
}
