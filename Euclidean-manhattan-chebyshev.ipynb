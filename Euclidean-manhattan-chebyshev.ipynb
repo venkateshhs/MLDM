{
 "cells": [
  {
   "cell_type": "code",
   "execution_count": 8,
   "metadata": {},
   "outputs": [
    {
     "name": "stdout",
     "output_type": "stream",
     "text": [
      "Euclidean: 5.196152422706632\n",
      "Manhattan: 9.0\n",
      "Chebyshev: 4.0\n"
     ]
    }
   ],
   "source": [
    "import numpy as np\n",
    "#euclidean Distance\n",
    "\n",
    "x = [-1,-1,3,2,-1]\n",
    "y = [-1,2,-1,1,0]\n",
    "e = 0.0\n",
    "for i in range(len(x)):\n",
    "    e += pow((float(x[i])-float(y[i])),2)  #euclidean distance\n",
    "e = np.sqrt(e)\n",
    "print(\"Euclidean:\",e)\n",
    "#Manhattan Distance\n",
    "m = 0.0\n",
    "for i in range(len(x)):\n",
    "    m += np.absolute((float(x[i])-float(y[i])))  \n",
    "print(\"Manhattan:\",m)\n",
    "#Chebyshev Distance\n",
    "cheb = []\n",
    "for i in range(len(x)):\n",
    "    cheb.append(np.absolute((float(x[i])-float(y[i]))))\n",
    "print(\"Chebyshev:\",max(cheb))\n",
    "\n"
   ]
  },
  {
   "cell_type": "code",
   "execution_count": null,
   "metadata": {},
   "outputs": [],
   "source": []
  }
 ],
 "metadata": {
  "kernelspec": {
   "display_name": "Python 3",
   "language": "python",
   "name": "python3"
  },
  "language_info": {
   "codemirror_mode": {
    "name": "ipython",
    "version": 3
   },
   "file_extension": ".py",
   "mimetype": "text/x-python",
   "name": "python",
   "nbconvert_exporter": "python",
   "pygments_lexer": "ipython3",
   "version": "3.8.5"
  }
 },
 "nbformat": 4,
 "nbformat_minor": 4
}
