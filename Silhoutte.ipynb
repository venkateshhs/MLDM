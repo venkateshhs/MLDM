{
 "cells": [
  {
   "cell_type": "code",
   "execution_count": 1,
   "metadata": {},
   "outputs": [],
   "source": [
    "import numpy as np\n",
    "#euclidean Distance\n",
    "a_i = []\n",
    "def a_i_func(x,y,x1,y1):\n",
    "    dist = 0.0\n",
    "    a_i_sep = []\n",
    "    for i in range(len(x1)):\n",
    "        dist += pow((float(x)-float(x1[i])),2)  #euclidean distance\n",
    "        dist += pow((float(y)-float(y1[i])),2)\n",
    "        dist = np.sqrt(dist)\n",
    "        a_i.append(dist)\n",
    "        a_i_sep.append(dist)\n",
    "        dist = 0.0\n"
   ]
  },
  {
   "cell_type": "code",
   "execution_count": 2,
   "metadata": {},
   "outputs": [],
   "source": [
    "import numpy as np\n",
    "#euclidean Distance\n",
    "b_i_mean = []\n",
    "def b_i_func(x,y,x1,y1):\n",
    "    dist = 0.0\n",
    "    b_i_sep = []\n",
    "    for i in range(len(x1)):\n",
    "        dist += pow((float(x)-float(x1[i])),2)  #euclidean distance\n",
    "        dist += pow((float(y)-float(y1[i])),2)\n",
    "        dist = np.sqrt(dist)\n",
    "        b_i_sep.append(dist)\n",
    "        dist = 0.0\n",
    "    b_i_mean.append(np.mean(b_i_sep))\n",
    "    return b_i_sep\n",
    "\n"
   ]
  },
  {
   "cell_type": "code",
   "execution_count": 3,
   "metadata": {},
   "outputs": [
    {
     "name": "stdout",
     "output_type": "stream",
     "text": [
      "mean(a_i): 1.0786893258332633\n",
      "first cluster mean: 3.8044540684693913\n",
      "second cluster mean: 4.282241922769155\n",
      "min mean b_i_mean: 3.8044540684693913\n",
      "sillhoutte: 0.7164667238925974\n"
     ]
    }
   ],
   "source": [
    "#---------------input starts---------------\n",
    "#-----given point------\n",
    "x=2\n",
    "y=1\n",
    "\n",
    "#----for a_i : its own cluster values-----------Leave the given point and write other values\n",
    "x1 = [1,2,3]\n",
    "y1 = [1.5,2,1.5]\n",
    "\n",
    "#---------for b_i : other cluster values-----------\n",
    "#---------other cluster 1-------------\n",
    "x2 = [2.5,4,5,4.5]\n",
    "y2 = [4,4.5,4.5,3.5]\n",
    "\n",
    "#---------other cluster 2-------------\n",
    "x3=[5.5,6.5]\n",
    "y3=[2,3]\n",
    "#-----------------input ends-------------\n",
    "\n",
    "a_i_func(x,y,x1,y1)\n",
    "print(\"mean(a_i):\",np.mean(a_i))\n",
    "\n",
    "b_i_1 = []\n",
    "b_i_1 = b_i_func(x,y,x2,y2)\n",
    "print(\"first cluster mean:\",np.mean(b_i_1))\n",
    "\n",
    "b_i_2 = []\n",
    "b_i_2 = b_i_func(x,y,x3,y3)\n",
    "print(\"second cluster mean:\",np.mean(b_i_2))\n",
    "\n",
    "#print(\"mean list:\",b_i_mean)\n",
    "print(\"min mean b_i_mean:\",min(b_i_mean))\n",
    "\n",
    "sillhoutte = (min(b_i_mean) - np.mean(a_i))/(max(min(b_i_mean),np.mean(a_i)))\n",
    "print(\"sillhoutte:\",sillhoutte)\n"
   ]
  },
  {
   "cell_type": "code",
   "execution_count": null,
   "metadata": {},
   "outputs": [],
   "source": []
  }
 ],
 "metadata": {
  "kernelspec": {
   "display_name": "Python 3",
   "language": "python",
   "name": "python3"
  },
  "language_info": {
   "codemirror_mode": {
    "name": "ipython",
    "version": 3
   },
   "file_extension": ".py",
   "mimetype": "text/x-python",
   "name": "python",
   "nbconvert_exporter": "python",
   "pygments_lexer": "ipython3",
   "version": "3.8.5"
  }
 },
 "nbformat": 4,
 "nbformat_minor": 4
}
