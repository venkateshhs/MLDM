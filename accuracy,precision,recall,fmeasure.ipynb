{
 "cells": [
  {
   "cell_type": "code",
   "execution_count": 1,
   "metadata": {},
   "outputs": [
    {
     "name": "stdout",
     "output_type": "stream",
     "text": [
      "Accuracy: 0.4\n",
      "Precision: 0.4\n",
      "Recall: 0.4\n",
      "F-measure: 0.4000000000000001\n"
     ]
    }
   ],
   "source": [
    "tp = 2\n",
    "fp = 3\n",
    "tn = 2\n",
    "fn = 3\n",
    "total = 10\n",
    "#accuracy\n",
    "acc = (tp + tn)/total\n",
    "prec = tp/(tp + fp)\n",
    "recall = tp/(tp + fn)\n",
    "fmeas = (2 * prec * recall)/(prec + recall)\n",
    "print(\"Accuracy:\",acc)\n",
    "print(\"Precision:\",prec)\n",
    "print(\"Recall:\",recall)\n",
    "print(\"F-measure:\",fmeas)"
   ]
  },
  {
   "cell_type": "code",
   "execution_count": null,
   "metadata": {},
   "outputs": [],
   "source": []
  }
 ],
 "metadata": {
  "kernelspec": {
   "display_name": "Python 3",
   "language": "python",
   "name": "python3"
  },
  "language_info": {
   "codemirror_mode": {
    "name": "ipython",
    "version": 3
   },
   "file_extension": ".py",
   "mimetype": "text/x-python",
   "name": "python",
   "nbconvert_exporter": "python",
   "pygments_lexer": "ipython3",
   "version": "3.8.5"
  }
 },
 "nbformat": 4,
 "nbformat_minor": 4
}
