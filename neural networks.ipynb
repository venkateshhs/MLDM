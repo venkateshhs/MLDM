{
 "cells": [
  {
   "cell_type": "code",
   "execution_count": 1,
   "metadata": {},
   "outputs": [],
   "source": [
    "import numpy as np\n",
    "import math\n",
    "#activation Func\n",
    "def activation_func(input,type):\n",
    "    if(type == \"s\"):\n",
    "        out = (1/(1+np.exp(-input)))\n",
    "    elif(type == \"r\"):\n",
    "        out = max(0,input)\n",
    "    elif(type == \"lr\"):\n",
    "        out = max(0.01,input)\n",
    "    return out\n",
    "  "
   ]
  },
  {
   "cell_type": "code",
   "execution_count": 2,
   "metadata": {},
   "outputs": [
    {
     "name": "stdout",
     "output_type": "stream",
     "text": [
      "Output list: [0.5962826992967879, 0.6461137412976246, 0.6411119498245881, 0.7415976314918832, 0.6371770071130793]\n",
      "Final output value: 0.6371770071130793\n"
     ]
    }
   ],
   "source": [
    "#---------------------------------------------ASSIGMENT QUESTION----------\n",
    "#calculate for each cell: x*w+b\n",
    "output_list = []\n",
    "#---input starts ------\n",
    "x = [0.3,0.8]\n",
    "w = [0.2,0.1,0.5,0.44,0.15,0.45,0.7,0.8,0.3,0.5]\n",
    "b = [0.25,0.1,0.2,0.12]\n",
    "Func_type = \"s\"   #---replace this with \"r\" for RELU\n",
    "#---input ends------\n",
    "\n",
    "h01 = (x[0]*w[0])+(x[1]*w[1])+b[0]\n",
    "ac_h01 = activation_func(h01,Func_type)\n",
    "output_list.append(ac_h01)\n",
    "h02 = (x[0]*w[2])+(x[1]*w[3])+b[1]\n",
    "ac_h02 = activation_func(h02,Func_type)\n",
    "output_list.append(ac_h02)\n",
    "\n",
    "#----hidden layers----------\n",
    "#-------hidden layer 1 --------\n",
    "h03 = (output_list[0]*w[4])+(output_list[1]*w[5])+b[2]\n",
    "ac_h03 = activation_func(h03,Func_type)\n",
    "output_list.append(ac_h03)\n",
    "h04 = (output_list[0]*w[6])+(output_list[1]*w[7])+b[3]\n",
    "ac_h04 = activation_func(h04,Func_type)\n",
    "output_list.append(ac_h04)\n",
    "\n",
    "\n",
    "#-----output-------\n",
    "h05 = (output_list[2]*w[8])+(output_list[3]*w[9])\n",
    "ac_h05 = activation_func(h05,Func_type)\n",
    "output_list.append(ac_h05)\n",
    "\n",
    "print(\"Output list:\",output_list)\n",
    "print(\"Final output value:\",ac_h05)\n"
   ]
  },
  {
   "cell_type": "code",
   "execution_count": 3,
   "metadata": {},
   "outputs": [
    {
     "name": "stdout",
     "output_type": "stream",
     "text": [
      "E_total: 0.18\n"
     ]
    }
   ],
   "source": [
    "#------ERROR-----\n",
    "out_given = 0.7\n",
    "output_obtained = 0.1\n",
    "E_total = 0.5*(math.pow((out_given - output_obtained),2))\n",
    "print(\"E_total:\",E_total)"
   ]
  },
  {
   "cell_type": "code",
   "execution_count": 4,
   "metadata": {},
   "outputs": [
    {
     "name": "stdout",
     "output_type": "stream",
     "text": [
      "der_e_total: -0.6\n",
      "der_out: 1\n",
      "der_pre_node: 0.5\n",
      "Gradient descent for ( 0.2 ): -0.3\n",
      "New weight: 0.35\n"
     ]
    }
   ],
   "source": [
    "#-----Gradient descent-------\n",
    "w = 0.2\n",
    "prev_node = 0.5\n",
    "out_given = 0.7\n",
    "output_obtained = 0.1\n",
    "type = 'r'\n",
    "\n",
    "der_e_total = -(out_given-output_obtained)\n",
    "print(\"der_e_total:\",der_e_total)\n",
    "if type == \"s\":\n",
    "    der_out = output_obtained*(1-output_obtained)\n",
    "elif type == \"r\":\n",
    "    if output_obtained>0:\n",
    "        der_out = 1\n",
    "    else:\n",
    "        der_out = 0\n",
    "elif type == \"lr\":\n",
    "    if output_obtained>0.01:\n",
    "        der_out = 1\n",
    "    else:\n",
    "        der_out = 0\n",
    "print(\"der_out:\",der_out)        \n",
    "der_pre_node = prev_node\n",
    "print(\"der_pre_node:\",der_pre_node)\n",
    "\n",
    "Final_e_total = der_e_total*der_out*der_pre_node\n",
    "\n",
    "print(\"Gradient descent for (\",w,\"):\",Final_e_total)\n",
    "\n",
    "#---updating weights with gradient descent----\n",
    "n = 0.5\n",
    "new_weg = w - (n*Final_e_total)\n",
    "print(\"New weight:\",new_weg)"
   ]
  },
  {
   "cell_type": "code",
   "execution_count": 5,
   "metadata": {},
   "outputs": [
    {
     "name": "stdout",
     "output_type": "stream",
     "text": [
      "Output list: [0.6, 0.5, 0.1]\n",
      "Final output value: 0.1\n"
     ]
    }
   ],
   "source": [
    "#---------------------------------------------DEMO EXAM QUESTION----------\n",
    "#calculate for each cell: x*w+b\n",
    "output_list = []\n",
    "#---input starts ------\n",
    "x = [0.2]\n",
    "w = [0.5,0.2,0.2]\n",
    "b = [0.5,0.38]\n",
    "Func_type = \"r\"   #---replace this with \"r\" for RELU\n",
    "#---input ends------\n",
    "\n",
    "h01 = (x[0]*w[0])+b[0]\n",
    "ac_h01 = activation_func(h01,Func_type)\n",
    "output_list.append(ac_h01)\n",
    "\n",
    "h02 = (output_list[0]*w[1])+b[1]\n",
    "ac_h02 = activation_func(h02,Func_type)\n",
    "output_list.append(ac_h02)\n",
    "\n",
    "#-----output-------\n",
    "output_1 = (output_list[1]*w[2])\n",
    "ac_output_1 = activation_func(output_1,Func_type)\n",
    "output_list.append(ac_output_1)\n",
    "\n",
    "print(\"Output list:\",output_list)\n",
    "print(\"Final output value:\",ac_output_1)"
   ]
  },
  {
   "cell_type": "code",
   "execution_count": 6,
   "metadata": {},
   "outputs": [
    {
     "name": "stdout",
     "output_type": "stream",
     "text": [
      "Output list: [0.52, 0.542, 0.24390000000000003]\n",
      "Final output value: 0.24390000000000003\n"
     ]
    }
   ],
   "source": [
    "#---------------------------------------------rakshitha assignment QUESTION----------\n",
    "#calculate for each cell: x*w+b\n",
    "output_list = []\n",
    "#---input starts ------\n",
    "x = [0.3,0.4]\n",
    "w = [0.5,0.1,0.85,0.45]\n",
    "b = [0.33,0.1]\n",
    "Func_type = \"r\"   #---replace this with \"r\" for RELU\n",
    "#---input ends------\n",
    "\n",
    "h01 = (x[0]*w[0])+(x[1]*w[1])+b[0]\n",
    "ac_h01 = activation_func(h01,Func_type)\n",
    "output_list.append(ac_h01)\n",
    "\n",
    "h02 = (output_list[0]*w[2])+b[1]\n",
    "ac_h02 = activation_func(h02,Func_type)\n",
    "output_list.append(ac_h02)\n",
    "\n",
    "#-----output-------\n",
    "output_1 = (output_list[1]*w[3])\n",
    "ac_output_1 = activation_func(output_1,Func_type)\n",
    "output_list.append(ac_output_1)\n",
    "\n",
    "print(\"Output list:\",output_list)\n",
    "print(\"Final output value:\",ac_output_1)"
   ]
  },
  {
   "cell_type": "code",
   "execution_count": null,
   "metadata": {},
   "outputs": [],
   "source": []
  }
 ],
 "metadata": {
  "kernelspec": {
   "display_name": "Python 3",
   "language": "python",
   "name": "python3"
  },
  "language_info": {
   "codemirror_mode": {
    "name": "ipython",
    "version": 3
   },
   "file_extension": ".py",
   "mimetype": "text/x-python",
   "name": "python",
   "nbconvert_exporter": "python",
   "pygments_lexer": "ipython3",
   "version": "3.8.5"
  }
 },
 "nbformat": 4,
 "nbformat_minor": 4
}
